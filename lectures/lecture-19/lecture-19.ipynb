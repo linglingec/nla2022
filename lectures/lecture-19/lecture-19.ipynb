{
 "cells": [
  {
   "cell_type": "markdown",
   "metadata": {
    "slideshow": {
     "slide_type": "slide"
    }
   },
   "source": [
    "# Lecture 19: Matrix functions and matrix equations"
   ]
  },
  {
   "cell_type": "markdown",
   "metadata": {
    "slideshow": {
     "slide_type": "slide"
    }
   },
   "source": [
    "## Previous lecture\n",
    "\n",
    "- Large scale eigenvalue problem\n",
    "- Krylov subspace based methods\n",
    "- Preconditioned inverse iteration\n",
    "- LOBPCG\n",
    "- Jacobi-Davidson method"
   ]
  },
  {
   "cell_type": "markdown",
   "metadata": {
    "slideshow": {
     "slide_type": "slide"
    }
   },
   "source": [
    "## Today lecture\n",
    "\n",
    "- Matrix function\n",
    "- Matrix exponential and rational Krylov subspaces\n"
   ]
  },
  {
   "cell_type": "markdown",
   "metadata": {
    "slideshow": {
     "slide_type": "slide"
    }
   },
   "source": [
    "## Outline of this part\n",
    "\n",
    "- What is a matrix function\n",
    "- Matrix exponential\n",
    "- (Some) applications\n",
    "\n",
    "Book to read: [Functions of matrices by Nick Higham](http://www.google.ru/books?hl=ru&lr=&id=2Wz_zVUEwPkC&oi=fnd&pg=PR3&dq=Higham+matrix+function&ots=pTt6fpLGRX&sig=DgUuX-SpBZGin8CFUo-4MYnOcHE&redir_esc=y#v=onepage&q=Higham%20matrix%20function&f=false)"
   ]
  },
  {
   "cell_type": "markdown",
   "metadata": {
    "slideshow": {
     "slide_type": "slide"
    }
   },
   "source": [
    "## The simplest matrix function: matrix polynomial\n",
    "\n",
    "It is very easy to define a matrix polynomial as  \n",
    "\n",
    "$$ P(A) = \\sum_{k=0}^n c_k A^k. $$\n",
    "\n",
    "**Confusing Side-note, think about it:** [Hamilton-Cayley theorem](https://en.wikipedia.org/wiki/Cayley%E2%80%93Hamilton_theorem) states that $F(A) = 0$ where $F(\\lambda) = \\det(A - \\lambda I)$, thus all matrix polynomials have degree $\\leq n-1$."
   ]
  },
  {
   "cell_type": "markdown",
   "metadata": {
    "slideshow": {
     "slide_type": "slide"
    }
   },
   "source": [
    "## Matrix polynomials as building blocks\n",
    "We can define a function of the matrix by **Taylor series**:  \n",
    "\n",
    "$$ f(A) = \\sum_{k=0}^{\\infty} c_k A^k. $$\n",
    "\n",
    "The convergence is understood as the convergence in some **matrix norm**.  \n",
    "\n",
    "Example of such series is the **Neumann series**  \n",
    "\n",
    "$$ (I - F)^{-1} = \\sum_{k=0}^{\\infty} F^k, $$\n",
    "\n",
    "which is well defined for $\\rho(F) < 1$."
   ]
  },
  {
   "cell_type": "markdown",
   "metadata": {
    "slideshow": {
     "slide_type": "slide"
    }
   },
   "source": [
    "## Matrix exponential series\n",
    "The most well-known matrix function is **matrix exponential**. In the scalar case,  \n",
    "\n",
    "$$ e^x = 1 + x + \\frac{x^2}{2} + \\frac{x^3}{6} + \\ldots = \\sum_{k=0}^{\\infty} \\frac{x^k}{k!}, $$\n",
    "\n",
    "and it directly translates to the matrix case:  \n",
    "\n",
    "$$ e^A = \\sum_{k=0}^{\\infty} \\frac{A^k}{k!}, $$\n",
    "\n",
    "the series that always converges, because the series\n",
    "\n",
    "$$\\sum_{k=0}^{\\infty} \\frac{\\Vert A \\Vert^k}{k!} = e^{\\Vert A \\Vert}.$$"
   ]
  },
  {
   "cell_type": "markdown",
   "metadata": {
    "slideshow": {
     "slide_type": "slide"
    }
   },
   "source": [
    "## Why matrix exponential is important\n",
    "\n",
    "A **lot of** practical problems are reduced to a system of linear ODEs of the form  \n",
    "\n",
    "$$ \\frac{dy}{dt} = Ay, \\quad y(0) = y_0. $$\n"
   ]
  },
  {
   "cell_type": "markdown",
   "metadata": {
    "slideshow": {
     "slide_type": "slide"
    }
   },
   "source": [
    "## ODE and matrix exponentials\n",
    "\n",
    "- Given the equation \n",
    "\n",
    "$$\\frac{dy}{dt} = Ay, \\quad y(0) = y_0$$\n",
    "\n",
    "- The formal solution is given by $y(t) = e^{At} y_0$, so if we know  $e^{At}$ (or can compute matrix-by-vector product fast) there is a big gain over the time-stepping schemes.\n",
    "\n",
    "- Indeed,\n",
    "\n",
    "$$\\frac{d}{dt} e^{At} = \\frac{d}{dt} \\sum_{k=0}^{\\infty} \\frac{t^k A^k}{k!} = \\sum_{k=1}^{\\infty} \\frac{t^{k-1} A^{k}}{(k-1)!}  = A e^{At}.$$"
   ]
  },
  {
   "cell_type": "markdown",
   "metadata": {
    "slideshow": {
     "slide_type": "slide"
    }
   },
   "source": [
    "## Sidenote: matrix exponential and time stepping\n",
    "\n",
    "Matrix exponential can be much better than solving using, say, Euler scheme:\n",
    "\n",
    "$$\\frac{dy}{dt} \\approx \\frac{y_{k+1} - y_k}{\\tau} = A y_k, \\quad y_{k+1} = y_k + \\tau A y_k,$$\n",
    "\n",
    "if we know how to compute the product of the matrix exponential by vector using only matrix-by-vector product.\n",
    "\n",
    "For dense matrices matrix exponential also provides **exact** answer to the ODE for any $t$, compared to the **approximation** by time-stepping schemes."
   ]
  },
  {
   "cell_type": "markdown",
   "metadata": {
    "slideshow": {
     "slide_type": "slide"
    }
   },
   "source": [
    "## How to compute matrix functions, including exponential?\n",
    "\n",
    "- There are many ways, even for the matrix exponential!\n",
    "\n",
    "- See [C. Van Loan, C. Moler, Nineteen Dubious Ways to Compute the Exponential of a Matrix, Twenty-Five Years Later](http://www.cs.cornell.edu/cv/researchpdf/19ways+.pdf)\n",
    "\n",
    "- The simplest way is to diagonalize the matrix:  \n",
    "\n",
    "$$ A = S \\Lambda S^{-1}, $$\n",
    "\n",
    "where the columns of $S$ are **eigenvectors** of the matrix $A$,  then  \n",
    "\n",
    "$$ F(A) = S F(\\Lambda) S^{-1}. $$\n",
    "\n",
    "**Problem: diagonalization can be unstable!** (and not every matrix is diagonalizable)\n",
    "\n",
    "Let us look how matrices are diagonalizable:"
   ]
  },
  {
   "cell_type": "code",
   "execution_count": 1,
   "metadata": {
    "slideshow": {
     "slide_type": "slide"
    }
   },
   "outputs": [
    {
     "name": "stdout",
     "output_type": "stream",
     "text": [
      "[[1. 1. 0. 0. 0.]\n",
      " [0. 1. 1. 0. 0.]\n",
      " [0. 0. 1. 1. 0.]\n",
      " [0. 0. 0. 1. 1.]\n",
      " [0. 0. 0. 0. 1.]]\n",
      "[1. 1. 1. 1. 1.]\n",
      "[[ 1.00000000e+00 -1.00000000e+00  1.00000000e+00 -1.00000000e+00\n",
      "   1.00000000e+00]\n",
      " [ 0.00000000e+00  2.22044605e-16 -2.22044605e-16  2.22044605e-16\n",
      "  -2.22044605e-16]\n",
      " [ 0.00000000e+00  0.00000000e+00  4.93038066e-32 -4.93038066e-32\n",
      "   4.93038066e-32]\n",
      " [ 0.00000000e+00  0.00000000e+00  0.00000000e+00  1.09476443e-47\n",
      "  -1.09476443e-47]\n",
      " [ 0.00000000e+00  0.00000000e+00  0.00000000e+00  0.00000000e+00\n",
      "   2.43086534e-63]]\n",
      "2.0\n",
      "[[1. 0. 0. 0. 0.]\n",
      " [0. 1. 0. 0. 0.]\n",
      " [0. 0. 1. 0. 0.]\n",
      " [0. 0. 0. 1. 0.]\n",
      " [0. 0. 0. 0. 1.]]\n"
     ]
    }
   ],
   "source": [
    "import numpy as np\n",
    "eps = 0\n",
    "p = 5\n",
    "a = np.eye(p)\n",
    "for i in range(p-1):\n",
    "    a[i, i+1] = 1\n",
    "    \n",
    "a[p-1, 2] = eps\n",
    "\n",
    "print(a)\n",
    "val, vec = np.linalg.eig(a)\n",
    "print(val)\n",
    "print(vec)\n",
    "print(np.linalg.norm(a - vec @ np.diag(val) @ np.linalg.inv(vec)))\n",
    "print(vec.dot(val[:, np.newaxis] * np.linalg.inv(vec)))\n"
   ]
  },
  {
   "cell_type": "markdown",
   "metadata": {
    "slideshow": {
     "slide_type": "slide"
    }
   },
   "source": [
    "Now we can compute a function for **perturbed Jordan block.**"
   ]
  },
  {
   "cell_type": "code",
   "execution_count": 29,
   "metadata": {
    "slideshow": {
     "slide_type": "slide"
    }
   },
   "outputs": [
    {
     "name": "stdout",
     "output_type": "stream",
     "text": [
      "funm result may be inaccurate, approximate err = 2.2204458655297986e-06\n",
      "[[2.71828183 2.71828315]\n",
      " [0.         2.71828183]]\n",
      "[[2.71828183 2.71828183]\n",
      " [0.         2.71828183]]\n"
     ]
    }
   ],
   "source": [
    "import numpy as np\n",
    "eps = 1e-12\n",
    "p = 5\n",
    "a = np.eye(p)\n",
    "for i in range(p-1):\n",
    "    a[i, i+1] = 1\n",
    "\n",
    "a[p-1, 0] = eps\n",
    "a = np.array(a)\n",
    "val, vec = np.linalg.eig(a)\n",
    "#print(np.linalg.norm(a - vec.dot(np.diag(val)).dot(np.linalg.inv(vec))))\n",
    "\n",
    "fun = lambda x: np.exp(x)\n",
    "\n",
    "#Using diagonalization\n",
    "fun_diag = vec.dot(np.diag(fun(val))).dot(np.linalg.inv(vec))\n",
    "\n",
    "\n",
    "#Using Schur\n",
    "import scipy.linalg\n",
    "fun_m = scipy.linalg.expm(a)\n",
    "#print('Difference = {}'.format(np.linalg.norm(fun_m - fun_diag)))\n",
    "\n",
    "a = np.eye(2)\n",
    "a[0, 1] = 1.0\n",
    "a[1, 1] = 1+1e-10\n",
    "print(scipy.linalg.funm(a, lambda x: np.exp(x)))\n",
    "print(scipy.linalg.expm(a))\n"
   ]
  },
  {
   "cell_type": "markdown",
   "metadata": {
    "slideshow": {
     "slide_type": "slide"
    }
   },
   "source": [
    "## How ```funm``` function works\n",
    "\n",
    "- The exponential of a matrix is a special function, so there are special methods for its computation.  \n",
    "\n",
    "- For a general function $F$,  there is a beautiful **Schur-Parlett algorithm**, which is based on the **Schur theorem**"
   ]
  },
  {
   "cell_type": "markdown",
   "metadata": {
    "slideshow": {
     "slide_type": "slide"
    }
   },
   "source": [
    "## Schur-Parlett algorithm\n",
    "\n",
    "- Given a matrix $A$ we want to compute $F(A)$, and we only can evaluate $F$ at **scalar points**.  \n",
    "- First, we reduce $A$ to the **triangular form** as  \n",
    "\n",
    "$$ A = U T U^*. $$\n",
    "\n",
    "- Therefore,  $F(A)=U F(T) U^*$\n",
    "\n",
    "- We only need to compute the function of triangular matrices."
   ]
  },
  {
   "cell_type": "markdown",
   "metadata": {
    "slideshow": {
     "slide_type": "slide"
    }
   },
   "source": [
    "## Computing functions of triangular matrices\n",
    "We know values on the diagonals\n",
    "\n",
    "$$ F_{ii} = F(T_{ii}), $$\n",
    "\n",
    "and also we know that\n",
    "\n",
    "$$ F T = T F $$\n",
    "\n",
    "the matrix function commutes with the matrix itself. The function of a triangular matrix is a triangular matrix as well.\n",
    "Using the known values on the diagonal and the commutativity property, we get the diagonals of the matrix one-by-one:\n",
    "\n",
    "\n",
    "$$f_{ij} = t_{ij} \\frac{f_{ii} - f_{jj}}{t_{ii} - t_{jj}} + \\sum_{k=i+1}^{j-1} \\frac{f_{ik} t_{kj} - t_{ik}f_{kj}}{t_{ii} - t_{jj}}.$$"
   ]
  },
  {
   "cell_type": "markdown",
   "metadata": {
    "slideshow": {
     "slide_type": "slide"
    }
   },
   "source": [
    "## Matrix functions: definition\n",
    "\n",
    "- One way to define a matrix function $f(A)$ is to use **Jordan canonical form**.\n",
    "\n",
    "- A much more elegant way is to use **Cauchy integral representation:**\n",
    "\n",
    "$$\n",
    "    f(A) = \\frac{1}{2\\pi i}\\int_{\\Gamma} f(z) (zI - A)^{-1} dz,\n",
    "$$\n",
    "\n",
    "where $f(z)$ is analytic on and inside a closed contour $\\Gamma$ that encloses the spectrum of $A$.\n",
    "\n",
    "- This definition can be generalized to the **operator case.**"
   ]
  },
  {
   "cell_type": "markdown",
   "metadata": {
    "slideshow": {
     "slide_type": "slide"
    }
   },
   "source": [
    "## Important matrix functions\n",
    "\n",
    "- Matrix exponential, used to solve $\\frac{dy}{dt} = Ay$ in the \"explicit\" way, $y = e^{At}y_0.$\n",
    "- $\\cos(A), \\sin(A)$ used to solve wave equation $\\frac{d^2 y}{dt^2} + Ay = 0.$\n",
    "- Sign function, $\\mathrm{sign}(A)$, used to compute **spectral projections.**\n",
    "- Inverse square root $A^{-1/2}$ used in many places, for example, to generate samples from a Gaussian distributions"
   ]
  },
  {
   "cell_type": "markdown",
   "metadata": {
    "slideshow": {
     "slide_type": "slide"
    }
   },
   "source": [
    "## Matrix exponential\n",
    "\n",
    "- The matrix exponential is given by the following series:\n",
    "\n",
    "$$e^A = I + A + \\frac{1}{2} A^2 + \\frac{1}{3!} A^3 + \\ldots$$\n",
    "\n",
    "- This series is a bad idea (even for a scalar case, can you guess why?)\n",
    "\n",
    "- This form for $e^A$ almost assumes a **Krylov method** for the evaluation of $e^{At} y_0,$ by the way."
   ]
  },
  {
   "cell_type": "code",
   "execution_count": 30,
   "metadata": {
    "slideshow": {
     "slide_type": "slide"
    }
   },
   "outputs": [
    {
     "name": "stdout",
     "output_type": "stream",
     "text": [
      "Error in the exponent: 65220007.32064143\n"
     ]
    }
   ],
   "source": [
    "import numpy as np\n",
    "\n",
    "x = -30.0 #Point\n",
    "k = 1000000 #Number of terms\n",
    "b = 1.0\n",
    "x0 = x\n",
    "for i in range(1, k):\n",
    "    b += x0\n",
    "    x0 *= x/(i+1)\n",
    "    \n",
    "print('Error in the exponent: {}'.format((b - np.exp(x))/np.exp(x)))"
   ]
  },
  {
   "cell_type": "markdown",
   "metadata": {
    "slideshow": {
     "slide_type": "slide"
    }
   },
   "source": [
    "## Series convergence\n",
    "\n",
    "- The series convergence for the matrix exponential can be slow for large $x!$ (and slow for big norm).\n",
    "\n",
    "- What we can do?"
   ]
  },
  {
   "cell_type": "markdown",
   "metadata": {
    "slideshow": {
     "slide_type": "slide"
    }
   },
   "source": [
    "## Method 1: Krylov method\n",
    "\n",
    "- We can use the idea of Krylov method: using the Arnoldi method, generate the orthogonal basis in the Krylov subspace, and compute (it can be used in general for any function)\n",
    "\n",
    "$$ f(A)v \\approx f(Q H Q^*)v = Q f(H) Q^*v,$$\n",
    "\n",
    "where $H$ is a small upper Hessenberg matrix, for which we can use, for example, the **Schur-Parlett algorithm.**\n",
    "\n",
    "- The convergence of the Krylov method can be quite slow: it is actually a **polynomial approximation** to a function.\n",
    "\n",
    "- And convergence of polynomial approximation to the matrix function **can be slow.**\n",
    "\n",
    "- **Idea:** Replace by rational approximation!"
   ]
  },
  {
   "cell_type": "markdown",
   "metadata": {
    "slideshow": {
     "slide_type": "slide"
    }
   },
   "source": [
    "## Pade approximations\n",
    "\n",
    "- Matrix exponential is well approximated by **rational function**:  \n",
    "\n",
    "$$\n",
    "\\exp(x) \\approx \\frac{p(x)}{q(x)},\n",
    "$$\n",
    "\n",
    "where $p(x)$ and $q(x)$ are polynomials and computation of a rational function of a matrix is reduced to **matrix-matrix products** and **matrix inversions**.  \n",
    "\n",
    "- The rational form is also very useful when only a product of a matrix exponential by vector is needed, since evaluation reduces to **matrix-by-vector products** and **linear systems solvers**"
   ]
  },
  {
   "cell_type": "code",
   "execution_count": 36,
   "metadata": {
    "slideshow": {
     "slide_type": "slide"
    }
   },
   "outputs": [
    {
     "data": {
      "text/plain": [
       "<matplotlib.legend.Legend at 0x13f98fb80>"
      ]
     },
     "execution_count": 36,
     "metadata": {},
     "output_type": "execute_result"
    },
    {
     "data": {
      "image/png": "[encoded data removed]",
      "text/plain": [
       "<Figure size 640x480 with 1 Axes>"
      ]
     },
     "metadata": {},
     "output_type": "display_data"
    }
   ],
   "source": [
    "#Computing Pade approximant\n",
    "#!pip install mpmath\n",
    "import numpy as np\n",
    "import mpmath\n",
    "%matplotlib inline\n",
    "from mpmath import pade, taylor, polyval\n",
    "import matplotlib.pyplot as plt\n",
    "x = np.linspace(-5, -1, 128)\n",
    "a = taylor(mpmath.exp, 0, 20) #Taylor series\n",
    "k1 = 10\n",
    "k2 = 10\n",
    "p, q = pade(a, k1, k2) #Pade approximant\n",
    "plt.plot(x, polyval(p[::-1], x)/polyval(q[::-1], x) - np.exp(x), label='Pade')\n",
    "plt.semilogy(x, polyval(a[::-1], x) - np.exp(x), label='Taylor')\n",
    "plt.legend()\n",
    "\n",
    "#_ = plt.title('Error of the Pade of order {0:d}/{1:d}'.format(k1, k2) )"
   ]
  },
  {
   "cell_type": "markdown",
   "metadata": {
    "slideshow": {
     "slide_type": "slide"
    }
   },
   "source": [
    "## Scaling & squaring algorithm\n",
    "\n",
    "The \"canonical algorithm\" for the computation of the matrix exponential also relies on **scaling** of the matrix $A:$\n",
    "\n",
    "$$\\exp(A) = \\exp(A/2^k)^{(2^k)}.$$\n",
    "\n",
    "The matrix then can have a small norm, thus:\n",
    "\n",
    "- Scale the matrix as $B := A/2^k$ to make it norm less than $1$.\n",
    "- Compute exponent of $C = e^B$ by a **Pade approximant**\n",
    "- Square $e^A \\approx C^{(2^k)}$ in $k$ matrix-by-matrix products."
   ]
  },
  {
   "cell_type": "markdown",
   "metadata": {
    "slideshow": {
     "slide_type": "slide"
    }
   },
   "source": [
    "## Large-scale matrix exponentials\n",
    "\n",
    "- Large-scale matrices obviously do not allow for efficient scaling-and-squaring (need to work with dense matrices), thus we can use **Krylov methods** or (better) Rational Krylov methods.\n",
    "\n",
    "- The idea of a rational Krylov subspace is motivated by the idea of rational approximation instead of polynomial approximation.\n",
    "\n",
    "- Krylov methods rely on polynomial approximations"
   ]
  },
  {
   "cell_type": "markdown",
   "metadata": {
    "slideshow": {
     "slide_type": "slide"
    }
   },
   "source": [
    "## Rational Krylov subspaces\n",
    "\n",
    "The simplest (yet efficient) approach is based on the so-called **extended Krylov subspaces:**\n",
    "\n",
    "$$KE(A, b) = \\mathrm{Span}(\\ldots, A^{-2} b, A^{-1} b, b, A b, A^2 b, \\ldots)$$\n",
    "\n",
    "At each step you add a vector of the form $A w$ and $A^{-1} w$ to the subspace, and orthogonalize the result (**rational Arnoldi method**).\n",
    "\n",
    "I.e., we need only linear system solver for one step, but since the matrix $A$ is fixed, we can **factorize it** once"
   ]
  },
  {
   "cell_type": "markdown",
   "metadata": {
    "slideshow": {
     "slide_type": "slide"
    }
   },
   "source": [
    "## Rational Krylov methods\n",
    "\n",
    "Rational Krylov methods are the most efficient for the computation of matrix functions:\n",
    "\n",
    "- we construct an orthogonal basis in the span,\n",
    "\n",
    "$$KE(A, b) = \\mathrm{Span}(\\ldots, A^{-2} b, A^{-1} b, b, A b, A^2 b, \\ldots)$$\n",
    "\n",
    "- compute\n",
    "\n",
    "$$f(A)b \\approx Q f(H) Q^*b,$$\n",
    "\n",
    "where $H = Q^* A Q.$\n",
    "\n",
    "It requires one solver and matrix-by-vector product at each step."
   ]
  },
  {
   "cell_type": "markdown",
   "metadata": {
    "slideshow": {
     "slide_type": "slide"
    }
   },
   "source": [
    "## Other matrix functions\n",
    "\n",
    "Now, let us briefly talk about **other** matrix functions:\n",
    "\n",
    "- sign\n",
    "- inverse square root"
   ]
  },
  {
   "cell_type": "markdown",
   "metadata": {
    "slideshow": {
     "slide_type": "slide"
    }
   },
   "source": [
    "## Sign function\n",
    "\n",
    "- Sign function is defined as\n",
    "\n",
    "$$\\mathrm{sign}(x) = \\begin{cases} 1, \\quad x > 0, \\\\ -1, \\quad x < 0. \\end{cases}$$\n",
    "\n",
    "- Given a matrix $A = U \\Lambda U^*$, it effectively puts all the eigenvalues larger than $0$ to $1$, and all eigenvalues smaller than $0$ to $-1$, thus\n",
    "\n",
    "$$P = \\frac{(I + \\mathrm{sign}(A))}{2}$$\n",
    "\n",
    "is a **projector** onto the subspace spanned by all positive eigenvalues. \n",
    "\n",
    "- Such projectors can be very useful in **large-scale** eigenvalue computations, when you only need to find a subspace."
   ]
  },
  {
   "cell_type": "markdown",
   "metadata": {
    "slideshow": {
     "slide_type": "slide"
    }
   },
   "source": [
    "## How to compute sign function?\n",
    "\n",
    "- There is a very simple iteration to compute the sign function, namely\n",
    "\n",
    "$$X_{k+1} = \\frac{1}{2} (X_k + X^{-1}_k), X_0 = \\alpha A.$$\n",
    "\n",
    "- This iteration converges **quadratically** to the sign function.\n",
    "\n",
    "- You can also get a polynomial iteration, [proposed by R. Byers](http://www.sciencedirect.com/science/article/pii/0024379587902229)\n",
    "\n",
    "$$X_{k+1} = \\frac{1}{2} X_k (3 I - X^2_k), \\quad X_0 = \\alpha A.$$"
   ]
  },
  {
   "cell_type": "markdown",
   "metadata": {
    "slideshow": {
     "slide_type": "slide"
    }
   },
   "source": [
    "## Inverse square root of the matrix\n",
    "\n",
    "- The inverse square root of the matrix, $A^{-1/2}$ is also often important.\n",
    "\n",
    "- For example, the multidimensional Gaussian distribution with covariance matrix $A = A^* > 0$ is given by the \n",
    "\n",
    "$$e^{A^{-1} x, x}.$$\n",
    "\n",
    "- Suppose $x$ is really huge (millions), how we **generate samples**, given a structured matrix $A$?\n",
    "\n",
    "- The simplest algorithm is to generate a normally distributed vector $y$ with $y_i$ from $N(0, 1)$, and then compute\n",
    "\n",
    "$$x = A^{\\frac{1}{2}} y.$$\n",
    "\n",
    "- The vector $x$ will have the desired distribution.\n",
    "\n",
    "- To compute matrix square root it is very efficient to use **rational Krylov subspaces.**"
   ]
  },
  {
   "cell_type": "markdown",
   "metadata": {
    "slideshow": {
     "slide_type": "slide"
    }
   },
   "source": [
    "## Matrix equations\n",
    "\n",
    "- An equation of the form \n",
    "\n",
    "$$F(X) = G, \\quad X \\in \\mathbb{R}^{n \\times m}$$ \n",
    "\n",
    "is called **matrix equation**.\n",
    "\n",
    "- A linear matrix equation is when $X$ and $G$ are matrices, and $F$ is a linear operator."
   ]
  },
  {
   "cell_type": "markdown",
   "metadata": {
    "slideshow": {
     "slide_type": "slide"
    }
   },
   "source": [
    "## Two important matrix equations\n",
    "\n",
    "We will discuss two matrix equations:\n",
    "\n",
    "- **Sylvester equation** of the form\n",
    "\n",
    "$$ A X + X B = C,$$\n",
    "\n",
    "where $A$ and $B$ are given, and its special case, **continious Lyapunov equation**,\n",
    "\n",
    "$$ A X + XA^{\\top} = C,$$\n",
    "\n",
    "and \n",
    "\n",
    "- **discrete Lyapunov equation**\n",
    "\n",
    "$$A X A^* - X = C. $$"
   ]
  },
  {
   "cell_type": "markdown",
   "metadata": {
    "slideshow": {
     "slide_type": "slide"
    }
   },
   "source": [
    "## Application of the Lyapunov equation\n",
    "\n",
    "- Lyapunov equation is very important for the stability of dynamical systems, and also for model order reduction.\n",
    "\n",
    "$$\\frac{dy}{dt} = Ay, \\quad y(0) = y_0,$$\n",
    "\n",
    "$$y(t) \\rightarrow 0$$ for $t \\rightarrow \\infty$.\n",
    "\n",
    "- System is stable, iff for any $Q = Q^* > 0$ there exists a unique positive definite solution $P$ of the Lyapunov equation\n",
    "\n",
    "$$A P + P A^* = Q.$$\n",
    "\n",
    "- The stability then can be checked without finding eigenvalues."
   ]
  },
  {
   "cell_type": "markdown",
   "metadata": {
    "slideshow": {
     "slide_type": "slide"
    }
   },
   "source": [
    "## Application to model order reduction\n",
    "\n",
    "Model order reduction of linear time-invariant systems:\n",
    "\n",
    "$$\\frac{dx}{dt} = Ax + Bu, \\quad y = C x,$$\n",
    "\n",
    "where $x$ is **state**, $u$ is control, and $y$ is the observable. We want to approximate it by a smaller-dimensional linear system\n",
    "\n",
    "$$\n",
    "   \\frac{d\\widehat{x}}{dt} = \\widehat{A} \\widehat{x} + \\widehat{B} u, \\quad y = \\widehat{C} \\widehat{x},\n",
    "$$\n",
    "\n",
    "in such a way that the output of the reduced system is close to the output of the original (big one).\n",
    "\n",
    "The optimal $\\widehat{A}, \\widehat{B}, \\widehat{C}$ can be recovered from the solution of the auxiliary Lyaupunov equations."
   ]
  },
  {
   "cell_type": "markdown",
   "metadata": {
    "slideshow": {
     "slide_type": "slide"
    }
   },
   "source": [
    "## Solution of the Sylvester equation\n",
    "\n",
    "$$ A X + X B = C,$$\n",
    "\n",
    "- This is a system of linear equations for $X$.\n",
    "\n",
    "- It can be rewritten as a linear system using the **vec** and **Kronecker product** operations.\n",
    "\n",
    "- First, we introduce the $\\mathrm{vec}$ operation by taking the element of a matrix into a one long vector."
   ]
  },
  {
   "cell_type": "markdown",
   "metadata": {
    "slideshow": {
     "slide_type": "slide"
    }
   },
   "source": [
    "## Kronecker product\n",
    "\n",
    "A Kronecker product of two matrices $A \\in \\mathbb{R}^{n_1 \\times m_1}, \\quad B \\in \\mathbb{R}^{n_2 \\times m_2}$ is a matrix $C$ of size $(n_1 n_2) \\times (m_1 m_2)$.\n",
    "\n",
    "Of the block form\n",
    "\n",
    "$$A \\otimes B = [a_{ij} B].$$"
   ]
  },
  {
   "cell_type": "markdown",
   "metadata": {
    "slideshow": {
     "slide_type": "slide"
    }
   },
   "source": [
    "## Main property of the Kronecker product and vec\n",
    "\n",
    "We have\n",
    "\n",
    "$$\\mathrm{vec}(A X B^{\\top}) = (B \\otimes A) \\mathrm{vec}(X).$$"
   ]
  },
  {
   "cell_type": "markdown",
   "metadata": {
    "slideshow": {
     "slide_type": "slide"
    }
   },
   "source": [
    "## Solving Sylvester equation: Bartels-Stewart method\n",
    "\n",
    "$$(I \\otimes A + B^{\\top} \\otimes I) x = c.$$\n",
    "\n",
    "Let us compute Schur decomposition of $A$ and $B$:\n",
    "\n",
    "$$A = Q_A T_A Q^*_A, \\quad B^{\\top} = Q_B T_B Q^*_B.$$\n",
    "\n",
    "Then, we have\n",
    "\n",
    "$$(I \\otimes A + B^{\\top} \\otimes I) = (I \\otimes ( Q_A T_A Q^*_A ) + (Q_B T_B Q^*_B \\otimes I) = (Q_B \\otimes Q_A) ( I \\otimes T_A + T_B \\otimes I) (Q^* _B \\otimes Q^*_A). $$\n",
    "\n",
    "We have \n",
    "\n",
    "$$(Q_B \\otimes Q_A)^{-1} = Q^*_B \\otimes Q^*_A,$$\n",
    "\n",
    "thus we only need to solve an auxiliary linear system with the matrix  \n",
    "\n",
    "$$I \\otimes T_A + T_B \\otimes I.$$\n",
    "\n",
    "Note, that if $A$ and $B$ are Hermitian, then $T_A$ and $T_B$ are diagonal, and this matrix is diagonal!"
   ]
  },
  {
   "cell_type": "markdown",
   "metadata": {
    "slideshow": {
     "slide_type": "slide"
    }
   },
   "source": [
    "## Solving a final system\n",
    "\n",
    "We have the system \n",
    "\n",
    "$$(I \\otimes T_A + T_B \\otimes I) z = g,$$\n",
    "\n",
    "in the matrix form:\n",
    "\n",
    "$$T_A Z + Z T^{\\top}_B = G.$$\n",
    "\n",
    "Then we just write the equation elementwise and see that the equations are solved successively for $Z_{11}, Z_{21}, \\ldots, $."
   ]
  },
  {
   "cell_type": "markdown",
   "metadata": {
    "slideshow": {
     "slide_type": "slide"
    }
   },
   "source": [
    "## Take home message\n",
    "\n",
    "- Matrix functions: matrix exponential, methods to compute matrix exponential\n",
    "- Rational Krylov subspace\n"
   ]
  },
  {
   "cell_type": "markdown",
   "metadata": {
    "slideshow": {
     "slide_type": "slide"
    }
   },
   "source": [
    "## Plan for the next class\n",
    "\n",
    "- Tensors\n",
    "- Tensor decompositions\n",
    "- Applications"
   ]
  },
  {
   "cell_type": "code",
   "execution_count": 21,
   "metadata": {
    "slideshow": {
     "slide_type": "skip"
    }
   },
   "outputs": [
    {
     "data": {
      "text/html": [
       "<link href='http://fonts.googleapis.com/css?family=Fenix' rel='stylesheet' type='text/css'>\n",
       "<link href='http://fonts.googleapis.com/css?family=Alegreya+Sans:100,300,400,500,700,800,900,100italic,300italic,400italic,500italic,700italic,800italic,900italic' rel='stylesheet' type='text/css'>\n",
       "<link href='http://fonts.googleapis.com/css?family=Source+Code+Pro:300,400' rel='stylesheet' type='text/css'>\n",
       "<style>\n",
       "    @font-face {\n",
       "        font-family: \"Computer Modern\";\n",
       "        src: url('http://mirrors.ctan.org/fonts/cm-unicode/fonts/otf/cmunss.otf');\n",
       "    }\n",
       "    div.cell{\n",
       "        /*width:80%;*/\n",
       "        /*margin-left:auto !important;\n",
       "        margin-right:auto;*/\n",
       "    }\n",
       "    h1 {\n",
       "        font-family: 'Alegreya Sans', sans-serif;\n",
       "    }\n",
       "    h2 {\n",
       "        font-family: 'Fenix', serif;\n",
       "    }\n",
       "    h3{\n",
       "\t\tfont-family: 'Fenix', serif;\n",
       "        margin-top:12px;\n",
       "        margin-bottom: 3px;\n",
       "       }\n",
       "\th4{\n",
       "\t\tfont-family: 'Fenix', serif;\n",
       "       }\n",
       "    h5 {\n",
       "        font-family: 'Alegreya Sans', sans-serif;\n",
       "    }\t   \n",
       "    div.text_cell_render{\n",
       "        font-family: 'Alegreya Sans',Computer Modern, \"Helvetica Neue\", Arial, Helvetica, Geneva, sans-serif;\n",
       "        line-height: 1.2;\n",
       "        font-size: 120%;\n",
       "        /*width:70%;*/\n",
       "        /*margin-left:auto;*/\n",
       "        margin-right:auto;\n",
       "    }\n",
       "    .CodeMirror{\n",
       "            font-family: \"Source Code Pro\";\n",
       "\t\t\tfont-size: 90%;\n",
       "    }\n",
       "/*    .prompt{\n",
       "        display: None;\n",
       "    }*/\n",
       "    .text_cell_render h1 {\n",
       "        font-weight: 200;\n",
       "        font-size: 50pt;\n",
       "\t\tline-height: 110%;\n",
       "        color:#CD2305;\n",
       "        margin-bottom: 0.5em;\n",
       "        margin-top: 0.5em;\n",
       "        display: block;\n",
       "    }\t\n",
       "    .text_cell_render h5 {\n",
       "        font-weight: 300;\n",
       "        font-size: 16pt;\n",
       "        color: #CD2305;\n",
       "        font-style: italic;\n",
       "        margin-bottom: .5em;\n",
       "        margin-top: 0.5em;\n",
       "        display: block;\n",
       "    }\n",
       "    \n",
       "    li {\n",
       "        line-height: 110%;\n",
       "    }\n",
       "    .warning{\n",
       "        color: rgb( 240, 20, 20 )\n",
       "        }  \n",
       "\n",
       "</style>\n",
       "\n",
       "<script>\n",
       "    MathJax.Hub.Config({\n",
       "                        TeX: {\n",
       "                           extensions: [\"AMSmath.js\"]\n",
       "                           },\n",
       "                tex2jax: {\n",
       "                    inlineMath: [ ['$','$'], [\"\\\\(\",\"\\\\)\"] ],\n",
       "                    displayMath: [ ['$$','$$'], [\"\\\\[\",\"\\\\]\"] ]\n",
       "                },\n",
       "                displayAlign: 'center', // Change this to 'center' to center equations.\n",
       "                \"HTML-CSS\": {\n",
       "                    styles: {'.MathJax_Display': {\"margin\": 4}}\n",
       "                }\n",
       "        });\n",
       "</script>\n"
      ],
      "text/plain": [
       "<IPython.core.display.HTML object>"
      ]
     },
     "execution_count": 21,
     "metadata": {},
     "output_type": "execute_result"
    }
   ],
   "source": [
    "from IPython.core.display import HTML\n",
    "def css_styling():\n",
    "    styles = open(\"./styles/custom.css\", \"r\").read()\n",
    "    return HTML(styles)\n",
    "css_styling()"
   ]
  }
 ],
 "metadata": {
  "anaconda-cloud": {},
  "celltoolbar": "Slideshow",
  "kernelspec": {
   "display_name": "Python 3 (ipykernel)",
   "language": "python",
   "name": "python3"
  },
  "language_info": {
   "codemirror_mode": {
    "name": "ipython",
    "version": 3
   },
   "file_extension": ".py",
   "mimetype": "text/x-python",
   "name": "python",
   "nbconvert_exporter": "python",
   "pygments_lexer": "ipython3",
   "version": "3.9.13"
  },
  "nav_menu": {},
  "rise": {
   "scroll": true,
   "theme": "sky",
   "transition": "zoom"
  },
  "toc": {
   "navigate_menu": true,
   "number_sections": false,
   "sideBar": true,
   "threshold": 6,
   "toc_cell": false,
   "toc_section_display": "block",
   "toc_window_display": false
  }
 },
 "nbformat": 4,
 "nbformat_minor": 1
}
