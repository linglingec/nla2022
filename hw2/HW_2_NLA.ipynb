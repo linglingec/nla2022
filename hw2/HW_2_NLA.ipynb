{
  "nbformat": 4,
  "nbformat_minor": 0,
  "metadata": {
    "colab": {
      "provenance": [],
      "collapsed_sections": [
        "yF_T3dA0mt3T",
        "jo7DXTGlHCtb",
        "gjOyTA_dm526"
      ]
    },
    "kernelspec": {
      "name": "python3",
      "display_name": "Python 3"
    },
    "language_info": {
      "name": "python"
    }
  },
  "cells": [
    {
      "cell_type": "markdown",
      "source": [
        "# Problem Set 2 (93 points)"
      ],
      "metadata": {
        "id": "7YdqwWkHrWl-"
      }
    },
    {
      "cell_type": "markdown",
      "source": [
        "## Important information\n",
        "1.  We provide signatures of the functions that you have to implement. Make sure you follow the signatures defined, otherwise your coding solutions will not be graded.\n",
        "\n",
        "2.  Please submit the single Jupyter Notebook file, where only Python and Markdown/$\\\\LaTeX$ are used. Any hand-written solutions inserted by photos or in any other way **are prohibitive and will not be graded**. If you will have any questions about using Markdown, ask them!\n",
        "3.  The works will be checked for **plagiarism**. The score will be divided by the number of similar works."
      ],
      "metadata": {
        "id": "OIRScpR8roDI"
      }
    },
    {
      "cell_type": "markdown",
      "source": [
        "## Submatrices (bonus).\n",
        "\n",
        "\n",
        "Let $U$ be an $n \\times r$ orthogonal matrix, $n \\geq r$. It is well known, that such matrix has $r \\times r$ non-singular submatrix $\\hat{U}$. To measure ``non-singularity'' of this submatrix one can use the minimal singular value, or the norm of the inverse $\\Vert \\hat{U}^{-1} \\Vert.$\n",
        "\n",
        "Suppose we select the submatrix that has the smallest possible norm of the inverse among all $r \\times r$ submatrices of $U$. What is the maximal value of such norm? Mathematically, we need to estimate\n",
        "\n",
        "$$t(n, r) = \\max_U \\min_{\\hat{U}} \\Vert \\hat{U}^{-1} \\Vert_2.$$\n",
        "\n",
        "Is it true that $t(n, r) \\leq \\sqrt{n}$?\n",
        "\n",
        "\n"
      ],
      "metadata": {
        "id": "UeU6nZR4uxdq"
      }
    },
    {
      "cell_type": "markdown",
      "source": [
        "# Problem 1 (QR algorithm) (22 pts)"
      ],
      "metadata": {
        "id": "kwVN4-v2rtMp"
      }
    },
    {
      "cell_type": "markdown",
      "source": [
        "One of the way to find eigenvalues for real matrix $A$ of size $(n,n)$ is **QR algorithm**. Each iteration of the algorithm consists of two main steps:\n",
        "\n",
        "1. Compute QR decompostion $A_k = Q_kR_k$\n",
        "2. Compute new matrix $A_{k+1} = R_kQ_k$\n",
        "\n",
        "$A_0 = A$\n",
        "\n",
        "From lecture materials you have seen that algorithm complexity in general is $O(Nn^3)$ ($N$ - number of iterations). But we can make an improvement by transforming matrix to **Upper Hessenberg form** ([link](https://en.wikipedia.org/wiki/Hessenberg_matrix)) before running the algorithm. \n",
        "\n",
        "The good property of Hessenberg matrix is preservation of its structure during QR algorithm iteration. In other words, if $A_{k}$ is Hessenberg matrix, then $A_{k+1}$ will also be a Hessenberg matrix. We can use this property to reduce complexity of each iteration. Since we need only to zero first lower subdiagonal for QR factorization (first step in each iteration) we can use **Givens rotations** $O(n^2)$ instead of **Householder reflections** $O(n^3)$. Now, the last question is how to obtain Hessenberg matrix - use Householder reflections. Since it is done only once (initialization stage), complexity of algorithm will not be increased.\n",
        "\n",
        "Final algorithm:\n",
        "\n",
        "I. **Initialization**\n",
        "\n",
        "> - Transform original matrix $A$ to Hessenberg form $H_0 = U^TAU$ using Householder reflections.\n",
        "\n",
        "II. **Loop**\n",
        "\n",
        "> **for** k in range(**N**):\n",
        "> -  Compute QR using Givens rotation: such matrices $Q_k,R_k$ that $H_k = Q_kR_k$\n",
        "\n",
        "> - Update matrix $H_{k+1} = R_k Q_k$\n",
        "\n"
      ],
      "metadata": {
        "id": "UTufw3WgsQCJ"
      }
    },
    {
      "cell_type": "markdown",
      "source": [
        "## What do you need to do:\n",
        "### Theoretical part\n",
        "1. Show that Hessenberg matrix preserves its structure under QR algorithm: if $A_k$ hessenberg matrix then $A_{k+1}$ hessenberg as well. **(5 pts)**\n",
        "\n",
        "2. **(Bonus task)** For real square matrix $A$, which all leading minors are nondegenerate, prove that QR algorithm converges to upper triangular matrix: $\\lim\\limits_{k\\rightarrow \\infty} A_k = T$, where $T$ - upper triangular matrix.\n",
        "\n",
        "### Practical part\n",
        "\n",
        "1. Implement function **Hessenberg_Transform** which takes a real square matrix $A$ and returns transformed matrix in Hessenberg form $H$ (use householder reflections). **(5 pts)**\n",
        "\n",
        "2. Implement function **QR_givens** which takes a real square matrix in Hessenberg form $H$ and returns QR factorization: matrices $Q$ and $R$. **(5 pts)**\n",
        "\n",
        "3. Implement function **QR_algorithm**, which takes a real square matrix $A$ and returns $H_{N}$ - the result of $N$ iterations of QR algorithm. Use previously implemented **Hessenberg_Transform** to get Hessenberg form of matrix $A$, and  **QR_givens** to make QR factorization on each iteration. **(2 pts)**\n",
        "\n",
        "4. Varing parameter $n$ generate random matrix of size $(n,n)$ and measure the computation time of **QR_algorithm** function. Plot observed data: computation time versus $n$. Use logarithmic scale for both axes. Explain obtained results.**(3 pts)**\n",
        "\n",
        "5. Compare eigenvalues computed using your implemented algorithm and standard numpy functionality for some random matrix. Try different number of iterations for the algorithm. Explain results. **(2 pts)**"
      ],
      "metadata": {
        "id": "yF_T3dA0mt3T"
      }
    },
    {
      "cell_type": "markdown",
      "source": [
        "###Theoretical proofs\n",
        "\n",
        "**your solution**"
      ],
      "metadata": {
        "id": "jo7DXTGlHCtb"
      }
    },
    {
      "cell_type": "code",
      "source": [
        "import numpy as np"
      ],
      "metadata": {
        "id": "fDmZd2M10l3e"
      },
      "execution_count": null,
      "outputs": []
    },
    {
      "cell_type": "code",
      "source": [
        "def Hessenberg_Transform(A):\n",
        "  H = # your solution\n",
        "  return H"
      ],
      "metadata": {
        "id": "mW_6vkzZenqD"
      },
      "execution_count": null,
      "outputs": []
    },
    {
      "cell_type": "code",
      "source": [
        "def QR_givens(H):\n",
        "  Q = # your solution\n",
        "  R = # your solution\n",
        "  return Q,R"
      ],
      "metadata": {
        "id": "ZIIEZphhvvPP"
      },
      "execution_count": null,
      "outputs": []
    },
    {
      "cell_type": "code",
      "source": [
        "def QR_algorithm(A, N_iterations):\n",
        "  H = # your solution\n",
        "  return H"
      ],
      "metadata": {
        "id": "_z1nw6kTwDu6"
      },
      "execution_count": null,
      "outputs": []
    },
    {
      "cell_type": "markdown",
      "source": [
        "# Problem 2 (Stochastic trace estimation) (30 pts) "
      ],
      "metadata": {
        "id": "0CzvluMS3Kys"
      }
    },
    {
      "cell_type": "markdown",
      "source": [
        "In this problem we consider stochastic estimation of trace for implicitly-defined matrices.\n",
        "\n",
        "Impicitly-defined matrices are such that matrix-vector multiplication is easy to perform, but matrix entries are not easy to obtain (examples are given by integral kernels, products of sparse matrices, products of a set of circulants, low-rank matrices given in a compressed form, etc).\n",
        "\n",
        "In such cases it is often possible to approximate trace with $k\\ll N$ matrix-vector products, where $N$ is the size of matrix.\n",
        "\n",
        "One popular way to obtain stochastic estimate is Hutchinson algorithm."
      ],
      "metadata": {
        "id": "qFFd6Gfpw_SK"
      }
    },
    {
      "cell_type": "markdown",
      "source": [
        "## Hutchinson algorithm\n",
        "Let $u$ be a random vector from $\\mathbb{R}^{n}$ with independent identicaly distributed entries $u_i$ each having zero mean and variance $\\sigma^2$.\n",
        "\n",
        "Let $B$ be a symmetric matrix from $\\mathbb{R}^{n\\times n}$.\n",
        "\n",
        "Hutchinson algorithm is roughly as follows:\n",
        "\n",
        "    trace_estimate = 0\n",
        "    for i=1:N do\n",
        "        u = random_vector\n",
        "        trace_estimate += (u,Bu)\n",
        "    end do\n",
        "    trace_estimate /= N\n",
        "\n",
        "So Hutchinson algorithm uses empirical mean $u^\\top B u$ as a trace estimation. Below we ask you to find properties of this estimator."
      ],
      "metadata": {
        "id": "5h9q64EeRD9t"
      }
    },
    {
      "cell_type": "markdown",
      "source": [
        "**Subproblem 1 (5 pts)**"
      ],
      "metadata": {
        "id": "VgHOv00abY_0"
      }
    },
    {
      "cell_type": "markdown",
      "source": [
        "1. Show that $\\mathbb{E}\\left[u^\\top B u\\right] = \\sigma^2 \\text{tr} B$, where $\\mathbb{E}\\left[\\cdot\\right]$ denotes average wrt $u$."
      ],
      "metadata": {
        "id": "3C5hsAIZReDq"
      }
    },
    {
      "cell_type": "markdown",
      "source": [
        "2. Show that $\\text{var}\\left[u^\\top B u\\right] = 2\\sigma^4 \\sum_{i\\neq j}B_{ij}^2 + \\left(\\mathbb{E}\\left[u^4\\right] - \\sigma^4\\right)\\sum_{i}B_{ii}^2$, where $\\text{var}$ denotes [variance](https://en.wikipedia.org/wiki/Variance)."
      ],
      "metadata": {
        "id": "YLIKOSDTSLRC"
      }
    },
    {
      "cell_type": "markdown",
      "source": [
        "3. Find the variance for the case when:\n",
        "\n",
        "  a. each $u_{i}\\sim \\mathcal{N}(0, \\sigma^2)$, i.e., for normally distributed with zero mean and variance $\\sigma^2$;\n",
        "\n",
        "  b. each $u_{i}$ follows [Rademacher distribution](https://en.wikipedia.org/wiki/Rademacher_distribution);"
      ],
      "metadata": {
        "id": "vymc7lvsSpqC"
      }
    },
    {
      "cell_type": "markdown",
      "source": [
        "4. Why variance matters.\n",
        "  \n",
        "  Let $z_1, \\dots, z_N$ are independent identicaly distributed samples of random variable with mean $\\mu$ and variance $\\sigma^2$ and $\\hat{\\mu} = \\frac{1}{N}\\sum_{i=1}^{N} z_{i}$ is a standard Monte Carlo extimator for mean.\n",
        "\n",
        "  a. Show that $\\mathbb{E}\\left[\\hat{\\mu}\\right] = \\mu$ and $\\text{var}\\left[\\hat{\\mu}\\right] = \\sigma^2 \\big/ N$.\n",
        "\n",
        "  b. Use [Chebyshev inequality](https://en.wikipedia.org/wiki/Chebyshev%27s_inequality) to find the number of samples $N$ you need to use to guarante that estimate $\\hat{\\mu}$ deviates from $\\mu$ on $\\epsilon\\ll 1$ with probability at most $\\delta\\ll 1$."
      ],
      "metadata": {
        "id": "_g6jeeJBmiAI"
      }
    },
    {
      "cell_type": "markdown",
      "source": [
        "5. Does the variance of the estimator matters?\n",
        "\n",
        "  a. Adapt bounds from _Subproblem 1 point 4.b_ for Hutchinson algorithm with normal and Rademacher distributions.\n",
        "\n",
        "  b. Empirically evaluate variances from _Subproblem 1 point 2_ using several sparse, low-rank and circulant matrices.\n",
        "\n",
        "  c. Comment on practicality of Chebyshev bounds. What is the number of iterations you need to perform to achieve reasonably small error with reasonably large probability according to this bound?"
      ],
      "metadata": {
        "id": "dVGZe5pFoWRF"
      }
    },
    {
      "cell_type": "markdown",
      "source": [
        "**Subproblem 2 (5 pts)**"
      ],
      "metadata": {
        "id": "68qybAGKFlTT"
      }
    },
    {
      "cell_type": "markdown",
      "source": [
        "  1. Implement Hutchinson algorithm for normal and Rademacher distributions."
      ],
      "metadata": {
        "id": "x1PGkyusGAvH"
      }
    },
    {
      "cell_type": "markdown",
      "source": [
        "2. Evaluate your algorithm on several matrices on your choice."
      ],
      "metadata": {
        "id": "JGYWRk5aFoY7"
      }
    },
    {
      "cell_type": "markdown",
      "source": [
        "**Subproblem 3 (5 pts)**"
      ],
      "metadata": {
        "id": "pIL61RpEFqnJ"
      }
    },
    {
      "cell_type": "markdown",
      "source": [
        "Is it possible to obtain better bound? Here we study how to do that for simplified case."
      ],
      "metadata": {
        "id": "hzBjryHu4EhR"
      }
    },
    {
      "cell_type": "markdown",
      "source": [
        "Let $A$ be the $N\\times N$ matrix with all entries equal one, i.e., $A_{ij}=1$. We consider variant of Hutchinson algorithm with standard normal variables, i.e., $u_{i} \\sim \\mathcal{N}(0, 1)$.\n"
      ],
      "metadata": {
        "id": "ihVhxbSuFxPL"
      }
    },
    {
      "cell_type": "markdown",
      "source": [
        "1. Show that $u^\\top A u \\big/ N$ has [chi-squared distribution](https://en.wikipedia.org/wiki/Chi-squared_distribution)."
      ],
      "metadata": {
        "id": "2guyMtm5Fz8U"
      }
    },
    {
      "cell_type": "markdown",
      "source": [
        "2. Suppose that Hutchinson algorithm is applied for $M$ iteration. Show that $\\sum_{i=1}^{M}u_i^\\top A u_i \\big/ N$ has $\\chi^2(M)$ distribution (chi-squared distribution with $M$ degrees of freedom)."
      ],
      "metadata": {
        "id": "v483XTyCF4Ks"
      }
    },
    {
      "cell_type": "markdown",
      "source": [
        "3. Let $M\\geq50$, $G_{M} = \\sum_{i=1}^{M}u_i^\\top A u_i \\big/ M$ and suppose that $\\chi^2(M)$ has approximately normal distribution. Under this assumptions show that there exists small $\\delta$ such that $\\text{Pr}\\left(\\left|G_{M} - \\text{tr}(A)\\right| \\leq \\epsilon \\text{tr}(A)\\right) \\geq 1 - \\delta $."
      ],
      "metadata": {
        "id": "Yru4LU68F6JT"
      }
    },
    {
      "cell_type": "markdown",
      "source": [
        "It is possible to generalize bound from Subproblem 3 point 3 and the result can be found in the paper by Avron and Toledo (2010)."
      ],
      "metadata": {
        "id": "gCfoFxTiyplo"
      }
    },
    {
      "cell_type": "markdown",
      "source": [
        "---\n",
        "\n",
        "Another similar bound that we state without a proof involves Frobenius norm.\n",
        "\n",
        "For Hutchinson estimate with $l$ steps denoted $T_l$, $\\delta \\in (0, 1/2]$ for fixed constants $c$ and $C$\n",
        "\n",
        "\\begin{equation}\n",
        "  \\text{Pr}\\left(\\left|T_{l} - \\text{tr}(A)\\right|\\leq C \\sqrt{\\frac{\\log(1/\\delta)}{l}}\\left\\|A\\right\\|_{F}\\right) \\geq 1 - \\delta.\n",
        "\\end{equation}"
      ],
      "metadata": {
        "id": "0WhI2bbzM7Df"
      }
    },
    {
      "cell_type": "markdown",
      "source": [
        "## Improved Hutchinson algorithms"
      ],
      "metadata": {
        "id": "woLFVgFGP9Xk"
      }
    },
    {
      "cell_type": "markdown",
      "source": [
        "There are a lot of improved version of Hutchinson algorithms.\n",
        "\n",
        "One fruitful idea is to represent the matrix $A$ as a sum $A = A_1 + A_2$ in such a way that $A_1$ has easy-to-compute trace and $\\left\\|A_2\\right\\|_F^2 \\ll \\left\\|A_1\\right\\|_F^2$ or $\\text{tr}(A_2) \\ll \\text{tr}(A_1)$ if both $A_1$ and $A_2$ are spd matrices.\n",
        "\n",
        "If this splitting is possible to construct, one has smaller one-sample variance or better $(\\epsilon, \\delta)$-estimator.\n",
        "\n",
        "Below we ask you to prove simple theoretical result on the systematic construction of such splittings."
      ],
      "metadata": {
        "id": "0NwxTEP6eyFp"
      }
    },
    {
      "cell_type": "markdown",
      "source": [
        "**Subproblem 4 (5 pts)**"
      ],
      "metadata": {
        "id": "pTGLQf-WFN1B"
      }
    },
    {
      "cell_type": "markdown",
      "source": [
        "Let $A\\in\\mathbb{R}^{N\\times N}$ be symmetric positive definite matrix and $Q\\in\\mathbb{R}^{N\\times k}$ contains $k$ eigenvalues corresponding to top $k$ eigenvalues, i.e., $\\lambda_1 \\leq \\lambda_2\\leq\\dots\\leq \\lambda_k\\leq\\lambda_{k+1}\\leq \\dots \\leq \\lambda_{N}$ eigenvalues are ordered and $Q_{\\star 1}, \\dots Q_{\\star k}$ are eigenvectors with eigenvalues $\\lambda_{N-k},\\dots,\\lambda_{N}$."
      ],
      "metadata": {
        "id": "oNdbqNpnFNiT"
      }
    },
    {
      "cell_type": "markdown",
      "source": [
        "1. Show that $\\text{tr}\\left(A\\right) = \\text{tr}\\left(Q^T A Q\\right) + \\text{tr}\\left((I - QQ^T)A (I - QQ^T)\\right)$.\n",
        "\n",
        "---\n",
        "\n"
      ],
      "metadata": {
        "id": "3L0H9ZGmKVU4"
      }
    },
    {
      "cell_type": "markdown",
      "source": [
        "2. Show that $\\left\\|(I - QQ^T)A (I - QQ^T)\\right\\|_{F} \\leq \\frac{1}{\\sqrt{k}}\\text{tr}\\left(A\\right)$."
      ],
      "metadata": {
        "id": "rQoaw5ejFM22"
      }
    },
    {
      "cell_type": "markdown",
      "source": [
        "3. Show that for any spd matrix $\\left\\|A\\right\\|_{F} \\leq \\text{tr}(A)$."
      ],
      "metadata": {
        "id": "eQlENLuRLCBh"
      }
    },
    {
      "cell_type": "markdown",
      "source": [
        "4. Use 2. and 3. and the bound for Hutchinson algorithm with Frobenius norm above to show that if $k \\simeq 1/\\epsilon$ one only needs $l\\simeq 1/\\epsilon$ steps in place of $1/\\epsilon^2$ for a given tolerance."
      ],
      "metadata": {
        "id": "Tjd_crvCOV7u"
      }
    },
    {
      "cell_type": "markdown",
      "source": [
        "The simple analysis above suggests the following improved Hutchinson algorithm:\n",
        "\n",
        "    trace_estimate = 0\n",
        "    Q = []\n",
        "    for i=1:m/3 do\n",
        "        u = random_vector\n",
        "        Q = [Q, u] # stack vectors\n",
        "    end do\n",
        "    Q = orthonormal basis for columns of AQ\n",
        "    tr_1 = trace(Q^T A Q) # compute exactly\n",
        "    tr_2 = approximate tr(I - QQ^T)A(I - QQ^T) with Hutchinson algorithm m/3 steps\n",
        "    tr = tr_1 + tr_2\n",
        "\n",
        "\n",
        "Observe that we substituted true eigenvalues with orthonormal basis. You may consider this a one-sweep power estimation of eigenvalues."
      ],
      "metadata": {
        "id": "yJWyFEirPSCr"
      }
    },
    {
      "cell_type": "markdown",
      "source": [
        "**Subproblem 5 (5 pts)**"
      ],
      "metadata": {
        "id": "yF4ETwahQnJo"
      }
    },
    {
      "cell_type": "markdown",
      "source": [
        "1. Implement improved Hutchinson algorithm. Note that the \"algorithm\" above is rather sketchy. Make sure to introduce improvements where needed."
      ],
      "metadata": {
        "id": "LNZdCBUzQ7R5"
      }
    },
    {
      "cell_type": "markdown",
      "source": [
        "2. Evaluate you algorithm on several matrices on your choice."
      ],
      "metadata": {
        "id": "96ELk5qrRA4M"
      }
    },
    {
      "cell_type": "markdown",
      "source": [
        "## Comparison of Hutchinson and improved Hutchinson algorithms"
      ],
      "metadata": {
        "id": "91Fi_NhTRRgO"
      }
    },
    {
      "cell_type": "markdown",
      "source": [
        "**Subproblem 6 (5 pts)**"
      ],
      "metadata": {
        "id": "jxC1FEI7RVhv"
      }
    },
    {
      "cell_type": "markdown",
      "source": [
        "Produce plots y-axis = relative trace error estimation, x-axis = number of matrix-vector products for original Hutchinson algorithm and for the improved version for the following cases:"
      ],
      "metadata": {
        "id": "DIOKzFX-RXdR"
      }
    },
    {
      "cell_type": "markdown",
      "source": [
        "1. Random matrices on your choise. Suggestions: [randn](https://numpy.org/doc/stable/reference/random/generated/numpy.random.randn.html), [random sparse](https://docs.scipy.org/doc/scipy/reference/generated/scipy.sparse.random.html)."
      ],
      "metadata": {
        "id": "KTj02b_UR0Nb"
      }
    },
    {
      "cell_type": "markdown",
      "source": [
        "2. For random spd matrices with eigenvalues $\\lambda_i = i^{-\\alpha}$ for several $\\alpha$, i.e., for matrices with fast- and slow-decaying spectrum."
      ],
      "metadata": {
        "id": "OekedwEcSJVa"
      }
    },
    {
      "cell_type": "markdown",
      "source": [
        "3. Summarize your observations."
      ],
      "metadata": {
        "id": "oVaJoXyoSYeB"
      }
    },
    {
      "cell_type": "markdown",
      "source": [
        "# Problem 3 (Universal adversarial attacks) (18 pts) "
      ],
      "metadata": {
        "id": "Dnjw_vPL3SBY"
      }
    },
    {
      "cell_type": "markdown",
      "source": [
        "## Intro\n",
        "\n",
        "Suppose we have some classification model $f: X \\to Y$ which takes vector $x \\in \\mathbb{R^n}$ and output some label $y$. It appears that deep neural networks are valunable to small imperceptible perturbations called adversarial attacks. Formally, an adversarial attack is the verctor $\\varepsilon \\in \\mathbb{R^n}$ that leads to misclassification: $y(x) \\neq y(x + \\varepsilon)$.\n",
        "\n",
        "<img src=\"https://openai.com/content/images/2017/02/adversarial_img_1.png\" style=\"display=block; margin:auto\">\n",
        "\n",
        "However, it was shown that there exist universal adversarial perturbations: $\\varepsilon \\in \\mathbb{R^n}$ that leads to misclassification $y(x) \\neq y(x + \\varepsilon)$ for most of inputs.\n",
        "\n",
        "The hypetesis is that perturbation of a hidden layer caused by an attack will propagate further in the network changing predicted label of x.\n",
        "\n",
        "Let $f_i$ be the output of $i$-s hidden layer, then\n",
        "$$f_i(x + \\varepsilon) - f(x) \\approx J_i(x)\\varepsilon$$\n",
        "So, to find attack we need to solve the folliwing optimization problem\n",
        "$$\n",
        "\\max_{\\|\\varepsilon\\|_p = 1} \\sum\\limits_{x \\in \\text{batch}}\\|J_i(x)\\varepsilon\\|_q^q\n",
        "$$\n",
        "\n",
        "## Problem discription\n",
        "\n",
        "+ Obtain fixed point iteration to solve the problem above using first order optimality condition. **(5 pts)**\n",
        "+ Suppose additionally that $\\varepsilon$ should be sparse: $\\|\\varepsilon\\|_0 \\leq k$. Correct the algorithm above using additional truncation operator. **(5 pts)**\n",
        "+ Implement algorithms 1 and 2. Find universal perturbations on CIFAR dataset using random batch of size 64. Report fooling rate depending on hyperparameters **(8 pts)**\n",
        "$$\n",
        "\\text{FoolingRate} = \\frac{1}{N}\\sum\\limits_{i = 1}^N \\mathbb{1}[y(x + \\varepsilon) \\neq y(x)]\n",
        "$$\n",
        "\n"
      ],
      "metadata": {
        "id": "gjOyTA_dm526"
      }
    },
    {
      "cell_type": "code",
      "source": [
        "import torch\n",
        "import torch.nn as nn\n",
        "import requests"
      ],
      "metadata": {
        "id": "A5bnjKKj3Hm5"
      },
      "execution_count": null,
      "outputs": []
    },
    {
      "cell_type": "code",
      "source": [
        "def download_file_from_google_drive(id, destination):\n",
        "    URL = \"https://docs.google.com/uc?export=download\"\n",
        "\n",
        "    session = requests.Session()\n",
        "\n",
        "    response = session.get(URL, params = { 'id' : id }, stream = True)\n",
        "    token = get_confirm_token(response)\n",
        "\n",
        "    if token:\n",
        "        params = { 'id' : id, 'confirm' : token }\n",
        "        response = session.get(URL, params = params, stream = True)\n",
        "\n",
        "    save_response_content(response, destination)\n",
        "\n",
        "\n",
        "def get_confirm_token(response):\n",
        "    for key, value in response.cookies.items():\n",
        "        if key.startswith('download_warning'):\n",
        "            return value\n",
        "\n",
        "    return None\n",
        "\n",
        "\n",
        "def save_response_content(response, destination):\n",
        "    CHUNK_SIZE = 32768\n",
        "\n",
        "    with open(destination, \"wb\") as f:\n",
        "        for chunk in response.iter_content(CHUNK_SIZE):\n",
        "            if chunk: # filter out keep-alive new chunks\n",
        "                f.write(chunk)"
      ],
      "metadata": {
        "id": "VUFsGCfM5eOX"
      },
      "execution_count": null,
      "outputs": []
    },
    {
      "cell_type": "code",
      "execution_count": null,
      "metadata": {
        "id": "mVGCX5UDm1ld"
      },
      "outputs": [],
      "source": [
        "class CifarNet(nn.Module):\n",
        "    def __init__(self):\n",
        "        super(CifarNet, self).__init__()\n",
        "        self.conv1 = nn.Conv2d(3, 64, kernel_size=3)\n",
        "        self.conv2 = nn.Conv2d(64, 64, kernel_size=3)\n",
        "        self.conv3 = nn.Conv2d(64, 128, kernel_size=3)\n",
        "        self.conv4 = nn.Conv2d(128, 128, kernel_size=3)\n",
        "\n",
        "        self.pool = nn.MaxPool2d(2, 2)\n",
        "\n",
        "        self.relu = nn.ReLU(inplace=True)\n",
        "        self.fc1 = nn.Linear(3200, 256)\n",
        "        \n",
        "        self.dropout = nn.Dropout(0.5)\n",
        "        \n",
        "        self.fc2 = nn.Linear(256, 256)\n",
        "        self.fc3 = nn.Linear(256, 10)\n",
        "\n",
        "    def forward(self, x):\n",
        "        x = self.relu(self.conv1(x))\n",
        "        x = self.relu(self.conv2(x))\n",
        "        x = self.pool(x)\n",
        "\n",
        "        x = self.relu(self.conv3(x))\n",
        "        x = self.relu(self.conv4(x))\n",
        "        x = self.pool(x)\n",
        "\n",
        "        x = x.view(-1, 3200)\n",
        "        x = self.relu(self.fc1(x))\n",
        "        x = self.dropout(x)\n",
        "        \n",
        "        x = self.relu(self.fc2(x))\n",
        "        x = self.fc3(x)\n",
        "\n",
        "        return x"
      ]
    },
    {
      "cell_type": "code",
      "source": [
        "device = \"cuda:0\" if torch.cuda.is_available() else \"cpu\"\n",
        "\n",
        "file_id = \"1qrNvr3eLYjvbkVg5jY2sYA2rqK9XkTXs\"\n",
        "download_file_from_google_drive(file_id, \"./cifar_checkpoint.pth\")\n",
        "\n",
        "model = CifarNet().to(device)\n",
        "model.load_state_dict(torch.load(\"./cifar_checkpoint.pth\", map_location=\"cpu\"))"
      ],
      "metadata": {
        "id": "YJ87b3t732Mw"
      },
      "execution_count": null,
      "outputs": []
    },
    {
      "cell_type": "code",
      "source": [],
      "metadata": {
        "id": "BO03LEdS3TTr"
      },
      "execution_count": null,
      "outputs": []
    },
    {
      "cell_type": "markdown",
      "source": [
        "# Problem 4 (Image restoration) (23 pts) "
      ],
      "metadata": {
        "id": "17Ipdn6u3T_n"
      }
    },
    {
      "cell_type": "markdown",
      "source": [
        "Image restoration is the task where we need to eliminate blurring and some random noise to get ideal image. Practically, images obtained in real life could be represented in following way:\n",
        "\n",
        "$$g = f * h + n$$\n",
        "\n",
        "where $g$ - obtained image of size $(N,N)$, $h$ - blur kernel of size $(3,3)$, $n$ - an additive zero-mean Gaussian white noise, and $f$ - ideal image (deblurred and denoised). In our work we will use gaussian blur kernel with window size 3:\n",
        "\n",
        "$$h = \\frac{1}{16}\\begin{pmatrix}1 & 2 & 1\\\\ 2 & 4 & 2\\\\ 1 & 2 & 1\\end{pmatrix}$$\n",
        "\n",
        "Here $f*h$ is a 2-d convolution of ideal image with blur kernel, which could be rewritten in matrix format:\n",
        "\n",
        "$$f * h = H \\mathrm{vec}(f)$$\n",
        "\n",
        "where $H$ - block Toeplitz with Toeplitz blocks matrix which corresponds to 2-d convolution with kernel $h$, $\\mathrm{vec}(\\cdot)$ - operation of vectorization.\n",
        "\n",
        "So, let us write the task of finding $f$ as optimization problem:\n",
        "\n",
        "$$\\min\\limits_{f,u} \\|H\\mathrm{vec}(f) - \\mathrm{vec}(g)\\|_2^2 + \\alpha_1\\|\\mathrm{vec}(f-u)\\|_2^2 + \\alpha_2\\|u\\|_{\\mathrm{TV}}$$\n",
        "where $\\|u\\|_{\\mathrm{TV}} = \\sum\\limits_{1\\leq j,k\\leq N}\\|\\nabla u_{j,k}\\|_2 = \\sum\\limits_{1\\leq j,k\\leq N}\\sqrt{(u_{j+1,k}-u_{j,k})^2 + (u_{j,k+1}-u_{j,k})^2}$ here we calculate gradients (pixel differences) along **x** and **y** image dimensions.\n",
        "\n",
        "One can notice that problem could be splitted on two:\n",
        "\n",
        "$$\\min\\limits_{u}\\min\\limits_f \\{\\|H\\mathrm{vec}(f) - \\mathrm{vec}(g)\\|_2^2 + \\alpha_1\\|\\mathrm{vec}(f-u)\\|_2^2\\} + \\alpha_2\\|u\\|_{\\mathrm{TV}}$$\n",
        "\n",
        "To find the solution we will use iterative method:\n",
        "\n",
        "$$\\begin{cases}\n",
        "f^{(i)} = \\arg\\min\\limits_f \\|H\\mathrm{vec}(f) - \\mathrm{vec}(g)\\|_2^2 + \\alpha_1\\|\\mathrm{vec}(f-u^{(i-1)})\\|_2^2 & (a)\\\\\n",
        "u^{(i)} = \\arg\\min\\limits_u \\alpha_1\\|\\mathrm{vec}(f^{(i)}-u)\\|_2^2 + \\alpha_2\\|u\\|_{\\mathrm{TV}} & (b)\n",
        "\\end{cases}$$\n",
        "\n",
        "Taking matrix derivative over the minimization functional in subproblem **(a)** we get the system:\n",
        "\n",
        "$$(H^TH + \\alpha_1I)\\mathrm{vec}(f) = H^T\\mathrm{vec}(g+\\alpha_1u^{(i-1)})$$\n",
        "\n",
        "This system can be solved by conjugate gradient method. Also, taking into account that $H$ is block Toeplitz with Toeplitz blocks (BTTB), we can make fast matrix by vector multiplication.\n",
        "\n",
        "The subproblem **(b)** could be solved by using any kind of solver of your choice.\n",
        "\n",
        "**So, your task is to:**\n",
        "\n",
        "1. Implement creation and fast matrix by vector multiplication for matrix $H$ **(6 pts)**\n",
        "2. Implement solver for subproblem **(a)** based on conjugate gradient descent using fast matrix by vector multiplication for $H$. **(8 pts)**\n",
        "3. Implement some solver for subproblem **(b)** **(3 pts)**\n",
        "4. Implement iterative solver for the total problem using solvers for subproblems **(a)** and **(b)** **(3 pts)**\n",
        "5. Blur (use defined blurring kernel) given image and add gaussian noise with zero mean and some variance (up to you). Try to restore the image, compare the result with the original one. Make a conclusion. **(3 pts)**\n"
      ],
      "metadata": {
        "id": "15lKpTklxWzn"
      }
    },
    {
      "cell_type": "code",
      "source": [
        "from PIL import Image, ImageOps"
      ],
      "metadata": {
        "id": "hY7W038m3YoR"
      },
      "execution_count": null,
      "outputs": []
    },
    {
      "cell_type": "code",
      "source": [
        "!wget --no-check-certificate \\\n",
        "    \"https://github.com/oseledets/nla2022/blob/main/hw2/lena.png?raw=true\" \\\n",
        "    -O \"/lena.png\""
      ],
      "metadata": {
        "colab": {
          "base_uri": "https://localhost:8080/"
        },
        "id": "78IpLj8FtO7_",
        "outputId": "5fbd37e1-0681-48de-bcf0-dcaa1bd89306"
      },
      "execution_count": null,
      "outputs": [
        {
          "output_type": "stream",
          "name": "stdout",
          "text": [
            "--2022-11-21 01:03:37--  https://github.com/oseledets/nla2022/blob/main/hw2/lena.png?raw=true\n",
            "Resolving github.com (github.com)... 140.82.112.3\n",
            "Connecting to github.com (github.com)|140.82.112.3|:443... connected.\n",
            "HTTP request sent, awaiting response... 302 Found\n",
            "Location: https://github.com/oseledets/nla2022/raw/main/hw2/lena.png [following]\n",
            "--2022-11-21 01:03:37--  https://github.com/oseledets/nla2022/raw/main/hw2/lena.png\n",
            "Reusing existing connection to github.com:443.\n",
            "HTTP request sent, awaiting response... 302 Found\n",
            "Location: https://raw.githubusercontent.com/oseledets/nla2022/main/hw2/lena.png [following]\n",
            "--2022-11-21 01:03:37--  https://raw.githubusercontent.com/oseledets/nla2022/main/hw2/lena.png\n",
            "Resolving raw.githubusercontent.com (raw.githubusercontent.com)... 185.199.108.133, 185.199.109.133, 185.199.111.133, ...\n",
            "Connecting to raw.githubusercontent.com (raw.githubusercontent.com)|185.199.108.133|:443... connected.\n",
            "HTTP request sent, awaiting response... 200 OK\n",
            "Length: 20329 (20K) [image/png]\n",
            "Saving to: ‘/lena.png’\n",
            "\n",
            "/lena.png           100%[===================>]  19.85K  --.-KB/s    in 0.001s  \n",
            "\n",
            "2022-11-21 01:03:37 (24.1 MB/s) - ‘/lena.png’ saved [20329/20329]\n",
            "\n"
          ]
        }
      ]
    },
    {
      "cell_type": "code",
      "source": [
        "orig_image = ImageOps.grayscale(Image.open(\"/lena.png\"))\n",
        "orig_image"
      ],
      "metadata": {
        "colab": {
          "base_uri": "https://localhost:8080/",
          "height": 217
        },
        "id": "NHg9I_PVrlJy",
        "outputId": "8ba81b91-8157-4d3c-e9a9-072107da9a65"
      },
      "execution_count": null,
      "outputs": [
        {
          "output_type": "execute_result",
          "data": {
            "text/plain": [
              "<PIL.Image.Image image mode=L size=200x200 at 0x7F86A7958350>"
            ],
            "image/png": "[encoded data removed]"
          },
          "metadata": {},
          "execution_count": 9
        }
      ]
    }
  ]
}
